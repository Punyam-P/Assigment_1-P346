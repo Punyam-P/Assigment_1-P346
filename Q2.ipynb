{
 "cells": [
  {
   "cell_type": "code",
   "execution_count": 1,
   "source": [
    "# To calculate sum of N terms of an AP series\r\n",
    "def sum_AP(start,difference,N):\r\n",
    "    sum = 0\r\n",
    "    error_msg = 'No. of terms must be an positive integer'\r\n",
    "    if N > 0 and isinstance(N,int): # Checking whether no. of terms is a positive integer\r\n",
    "        for i in range(N):\r\n",
    "            sum = start + i*difference\r\n",
    "        return sum\r\n",
    "    else:\r\n",
    "        return error_msg\r\n"
   ],
   "outputs": [],
   "metadata": {}
  },
  {
   "cell_type": "code",
   "execution_count": 2,
   "source": [
    "sum_AP(10,1.5,20)"
   ],
   "outputs": [
    {
     "output_type": "execute_result",
     "data": {
      "text/plain": [
       "38.5"
      ]
     },
     "metadata": {},
     "execution_count": 2
    }
   ],
   "metadata": {}
  },
  {
   "cell_type": "code",
   "execution_count": 3,
   "source": [
    "sum_AP(10,1.5,20.3)"
   ],
   "outputs": [
    {
     "output_type": "execute_result",
     "data": {
      "text/plain": [
       "'No. of terms must be an positive integer'"
      ]
     },
     "metadata": {},
     "execution_count": 3
    }
   ],
   "metadata": {}
  },
  {
   "cell_type": "code",
   "execution_count": 4,
   "source": [
    "# To calculate sum of N terms of an GP series\r\n",
    "def sum_GP(start,ratio,N):\r\n",
    "    sum = 0\r\n",
    "    error_msg = 'No. of terms must be an positive integer'\r\n",
    "    if N > 0 and isinstance(N,int): # Checking whether no. of terms is a positive integer\r\n",
    "        for i in range(N):\r\n",
    "            sum = start*ratio**i\r\n",
    "        return sum\r\n",
    "    else:\r\n",
    "        return error_msg"
   ],
   "outputs": [],
   "metadata": {}
  },
  {
   "cell_type": "code",
   "execution_count": 5,
   "source": [
    "sum_GP(12,0.7,13)"
   ],
   "outputs": [
    {
     "output_type": "execute_result",
     "data": {
      "text/plain": [
       "0.1660954464119999"
      ]
     },
     "metadata": {},
     "execution_count": 5
    }
   ],
   "metadata": {}
  },
  {
   "cell_type": "code",
   "execution_count": 6,
   "source": [
    "sum_GP(1,-14,12.7)"
   ],
   "outputs": [
    {
     "output_type": "execute_result",
     "data": {
      "text/plain": [
       "'No. of terms must be an positive integer'"
      ]
     },
     "metadata": {},
     "execution_count": 6
    }
   ],
   "metadata": {}
  },
  {
   "cell_type": "code",
   "execution_count": 7,
   "source": [
    "# To calculate sum of N terms of an HP series\r\n",
    "def sum_HP(start,difference,N):\r\n",
    "    error_msg = 'Cannot start with 0'\r\n",
    "    error_msg_2 = 'No. of terms must be an positive integer'\r\n",
    "    if start == 0: # Start of an HP cannot be 0 since 1/0 is undefined\r\n",
    "        return error_msg\r\n",
    "    else:\r\n",
    "        if N > 0 and isinstance(N,int): # Checking whether no. of terms is a positive integer\r\n",
    "            for i in range(N):\r\n",
    "                sum = start + i*difference\r\n",
    "            return sum\r\n",
    "        else:\r\n",
    "            return error_msg_2"
   ],
   "outputs": [],
   "metadata": {}
  },
  {
   "cell_type": "code",
   "execution_count": 8,
   "source": [
    "sum_HP(4,2,54)"
   ],
   "outputs": [
    {
     "output_type": "execute_result",
     "data": {
      "text/plain": [
       "110"
      ]
     },
     "metadata": {},
     "execution_count": 8
    }
   ],
   "metadata": {}
  },
  {
   "cell_type": "code",
   "execution_count": 9,
   "source": [
    "sum_HP(1,2,4.5)"
   ],
   "outputs": [
    {
     "output_type": "execute_result",
     "data": {
      "text/plain": [
       "'No. of terms must be an positive integer'"
      ]
     },
     "metadata": {},
     "execution_count": 9
    }
   ],
   "metadata": {}
  },
  {
   "cell_type": "code",
   "execution_count": 10,
   "source": [
    "sum_HP(0,2,4)"
   ],
   "outputs": [
    {
     "output_type": "execute_result",
     "data": {
      "text/plain": [
       "'Cannot start with 0'"
      ]
     },
     "metadata": {},
     "execution_count": 10
    }
   ],
   "metadata": {}
  }
 ],
 "metadata": {
  "orig_nbformat": 4,
  "language_info": {
   "name": "python",
   "version": "3.9.6",
   "mimetype": "text/x-python",
   "codemirror_mode": {
    "name": "ipython",
    "version": 3
   },
   "pygments_lexer": "ipython3",
   "nbconvert_exporter": "python",
   "file_extension": ".py"
  },
  "kernelspec": {
   "name": "python3",
   "display_name": "Python 3.9.6 64-bit"
  },
  "interpreter": {
   "hash": "b7604fccddc737405a6876acccf6306db9c08f4491098b516b9cfe0fafdc3063"
  }
 },
 "nbformat": 4,
 "nbformat_minor": 2
}