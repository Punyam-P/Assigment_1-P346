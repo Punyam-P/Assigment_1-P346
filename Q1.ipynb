{
 "cells": [
  {
   "cell_type": "code",
   "execution_count": 1,
   "source": [
    "# To sum odd, even and all first N natural numbers\r\n",
    "def sum(N):\r\n",
    "    error_msg = 'The number inserted in not a natural number.'\r\n",
    "    if N > 0 and isinstance(N,int): # Checking whether input is natural number\r\n",
    "        sum_odd = 0\r\n",
    "        sum_even = 0\r\n",
    "        for i in range(1,N+1):\r\n",
    "            if i%2 == 0: # Summing even numbers till N\r\n",
    "                sum_even+=i\r\n",
    "            else: # Summing odd numbers till N\r\n",
    "                sum_odd+=i\r\n",
    "        sum_all = sum_even + sum_odd\r\n",
    "        dict_of_sums = {\r\n",
    "            'Sum of Even numbers till N is' : sum_even,\r\n",
    "            'Sum of Odd numbers till N is' : sum_odd,\r\n",
    "            'Sum of All numbers till N' : sum_all\r\n",
    "        }\r\n",
    "        return dict_of_sums\r\n",
    "    else:\r\n",
    "        return error_msg"
   ],
   "outputs": [],
   "metadata": {}
  },
  {
   "cell_type": "code",
   "execution_count": 2,
   "source": [
    "sum(10)"
   ],
   "outputs": [
    {
     "output_type": "execute_result",
     "data": {
      "text/plain": [
       "{'Sum of Even numbers till N is': 30,\n",
       " 'Sum of Odd numbers till N is': 25,\n",
       " 'Sum of All numbers till N': 55}"
      ]
     },
     "metadata": {},
     "execution_count": 2
    }
   ],
   "metadata": {}
  },
  {
   "cell_type": "code",
   "execution_count": 3,
   "source": [
    "sum(123)"
   ],
   "outputs": [
    {
     "output_type": "execute_result",
     "data": {
      "text/plain": [
       "{'Sum of Even numbers till N is': 3782,\n",
       " 'Sum of Odd numbers till N is': 3844,\n",
       " 'Sum of All numbers till N': 7626}"
      ]
     },
     "metadata": {},
     "execution_count": 3
    }
   ],
   "metadata": {}
  },
  {
   "cell_type": "code",
   "execution_count": 4,
   "source": [
    "sum(-34)"
   ],
   "outputs": [
    {
     "output_type": "execute_result",
     "data": {
      "text/plain": [
       "'The number inserted in not a natural number.'"
      ]
     },
     "metadata": {},
     "execution_count": 4
    }
   ],
   "metadata": {}
  },
  {
   "cell_type": "code",
   "execution_count": 5,
   "source": [
    "sum(-11.34)"
   ],
   "outputs": [
    {
     "output_type": "execute_result",
     "data": {
      "text/plain": [
       "'The number inserted in not a natural number.'"
      ]
     },
     "metadata": {},
     "execution_count": 5
    }
   ],
   "metadata": {}
  },
  {
   "cell_type": "code",
   "execution_count": 6,
   "source": [
    "sum(12.3)"
   ],
   "outputs": [
    {
     "output_type": "execute_result",
     "data": {
      "text/plain": [
       "'The number inserted in not a natural number.'"
      ]
     },
     "metadata": {},
     "execution_count": 6
    }
   ],
   "metadata": {}
  }
 ],
 "metadata": {
  "orig_nbformat": 4,
  "language_info": {
   "name": "python",
   "version": "3.9.6",
   "mimetype": "text/x-python",
   "codemirror_mode": {
    "name": "ipython",
    "version": 3
   },
   "pygments_lexer": "ipython3",
   "nbconvert_exporter": "python",
   "file_extension": ".py"
  },
  "kernelspec": {
   "name": "python3",
   "display_name": "Python 3.9.6 64-bit"
  },
  "interpreter": {
   "hash": "b7604fccddc737405a6876acccf6306db9c08f4491098b516b9cfe0fafdc3063"
  }
 },
 "nbformat": 4,
 "nbformat_minor": 2
}